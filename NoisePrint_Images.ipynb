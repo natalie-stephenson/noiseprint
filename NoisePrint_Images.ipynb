{
 "cells": [
  {
   "cell_type": "markdown",
   "id": "354d668e-74ff-4ca4-92fa-77449df17fe3",
   "metadata": {
    "jp-MarkdownHeadingCollapsed": true,
    "tags": []
   },
   "source": [
    "# Installing Dependencies"
   ]
  },
  {
   "cell_type": "code",
   "execution_count": 1,
   "id": "b335b491-5cd4-4b89-99ec-5ca75bff6fd7",
   "metadata": {},
   "outputs": [
    {
     "name": "stdout",
     "output_type": "stream",
     "text": [
      "Requirement already satisfied: tqdm in /opt/anaconda3/envs/Nat_SPNandNoisePrint/lib/python3.7/site-packages (4.64.1)\n"
     ]
    }
   ],
   "source": [
    "!pip install tqdm"
   ]
  },
  {
   "cell_type": "code",
   "execution_count": 2,
   "id": "5de3d9ba-44d2-414e-986e-a26fd85fc327",
   "metadata": {},
   "outputs": [
    {
     "name": "stdout",
     "output_type": "stream",
     "text": [
      "Requirement already satisfied: wand in /opt/anaconda3/envs/Nat_SPNandNoisePrint/lib/python3.7/site-packages (0.6.10)\n"
     ]
    }
   ],
   "source": [
    "!pip install wand"
   ]
  },
  {
   "cell_type": "code",
   "execution_count": 3,
   "id": "ed402b43-ea4b-4c5a-b27e-6568beedfd39",
   "metadata": {},
   "outputs": [
    {
     "name": "stdout",
     "output_type": "stream",
     "text": [
      "Requirement already satisfied: pillow_heif in /opt/anaconda3/envs/Nat_SPNandNoisePrint/lib/python3.7/site-packages (0.8.0)\n",
      "Requirement already satisfied: pillow>=6.2.0 in /opt/anaconda3/envs/Nat_SPNandNoisePrint/lib/python3.7/site-packages (from pillow_heif) (9.2.0)\n",
      "Requirement already satisfied: cffi>=1.14.6 in /opt/anaconda3/envs/Nat_SPNandNoisePrint/lib/python3.7/site-packages (from pillow_heif) (1.15.1)\n",
      "Requirement already satisfied: pycparser in /opt/anaconda3/envs/Nat_SPNandNoisePrint/lib/python3.7/site-packages (from cffi>=1.14.6->pillow_heif) (2.21)\n"
     ]
    }
   ],
   "source": [
    "!pip install pillow_heif"
   ]
  },
  {
   "cell_type": "code",
   "execution_count": 4,
   "id": "83aad5ad-9db1-4302-837b-010e7a6c3b76",
   "metadata": {},
   "outputs": [
    {
     "name": "stdout",
     "output_type": "stream",
     "text": [
      "Requirement already satisfied: pyheif in /opt/anaconda3/envs/Nat_SPNandNoisePrint/lib/python3.7/site-packages (0.7.1)\n",
      "Requirement already satisfied: cffi>=1.0.0 in /opt/anaconda3/envs/Nat_SPNandNoisePrint/lib/python3.7/site-packages (from pyheif) (1.15.1)\n",
      "Requirement already satisfied: pycparser in /opt/anaconda3/envs/Nat_SPNandNoisePrint/lib/python3.7/site-packages (from cffi>=1.0.0->pyheif) (2.21)\n"
     ]
    }
   ],
   "source": [
    "!pip3 install pyheif"
   ]
  },
  {
   "cell_type": "code",
   "execution_count": 5,
   "id": "7a9fca45-1ed5-4507-970b-3bdd964b1741",
   "metadata": {},
   "outputs": [
    {
     "name": "stdout",
     "output_type": "stream",
     "text": [
      "Requirement already satisfied: whatimage in /opt/anaconda3/envs/Nat_SPNandNoisePrint/lib/python3.7/site-packages (0.0.3)\n"
     ]
    }
   ],
   "source": [
    "!pip install whatimage"
   ]
  },
  {
   "cell_type": "code",
   "execution_count": 6,
   "id": "00e5089f-118c-46f1-b41f-df705562ba7d",
   "metadata": {},
   "outputs": [
    {
     "name": "stdout",
     "output_type": "stream",
     "text": [
      "Requirement already satisfied: umap-learn in /opt/anaconda3/envs/Nat_SPNandNoisePrint/lib/python3.7/site-packages (0.5.3)\n",
      "Requirement already satisfied: scipy>=1.0 in /opt/anaconda3/envs/Nat_SPNandNoisePrint/lib/python3.7/site-packages (from umap-learn) (1.7.3)\n",
      "Requirement already satisfied: numpy>=1.17 in /opt/anaconda3/envs/Nat_SPNandNoisePrint/lib/python3.7/site-packages (from umap-learn) (1.21.5)\n",
      "Requirement already satisfied: numba>=0.49 in /opt/anaconda3/envs/Nat_SPNandNoisePrint/lib/python3.7/site-packages (from umap-learn) (0.56.4)\n",
      "Requirement already satisfied: tqdm in /opt/anaconda3/envs/Nat_SPNandNoisePrint/lib/python3.7/site-packages (from umap-learn) (4.64.1)\n",
      "Requirement already satisfied: pynndescent>=0.5 in /opt/anaconda3/envs/Nat_SPNandNoisePrint/lib/python3.7/site-packages (from umap-learn) (0.5.8)\n",
      "Requirement already satisfied: scikit-learn>=0.22 in /opt/anaconda3/envs/Nat_SPNandNoisePrint/lib/python3.7/site-packages (from umap-learn) (1.0.2)\n",
      "Requirement already satisfied: setuptools in /opt/anaconda3/envs/Nat_SPNandNoisePrint/lib/python3.7/site-packages (from numba>=0.49->umap-learn) (65.5.0)\n",
      "Requirement already satisfied: importlib-metadata in /opt/anaconda3/envs/Nat_SPNandNoisePrint/lib/python3.7/site-packages (from numba>=0.49->umap-learn) (4.11.3)\n",
      "Requirement already satisfied: llvmlite<0.40,>=0.39.0dev0 in /opt/anaconda3/envs/Nat_SPNandNoisePrint/lib/python3.7/site-packages (from numba>=0.49->umap-learn) (0.39.1)\n",
      "Requirement already satisfied: joblib>=0.11 in /opt/anaconda3/envs/Nat_SPNandNoisePrint/lib/python3.7/site-packages (from pynndescent>=0.5->umap-learn) (1.2.0)\n",
      "Requirement already satisfied: threadpoolctl>=2.0.0 in /opt/anaconda3/envs/Nat_SPNandNoisePrint/lib/python3.7/site-packages (from scikit-learn>=0.22->umap-learn) (3.1.0)\n",
      "Requirement already satisfied: typing-extensions>=3.6.4 in /opt/anaconda3/envs/Nat_SPNandNoisePrint/lib/python3.7/site-packages (from importlib-metadata->numba>=0.49->umap-learn) (4.4.0)\n",
      "Requirement already satisfied: zipp>=0.5 in /opt/anaconda3/envs/Nat_SPNandNoisePrint/lib/python3.7/site-packages (from importlib-metadata->numba>=0.49->umap-learn) (3.8.0)\n"
     ]
    }
   ],
   "source": [
    "!pip install umap-learn"
   ]
  },
  {
   "cell_type": "markdown",
   "id": "90a87055-5436-43d4-aa36-23571a7069d0",
   "metadata": {},
   "source": [
    "# Performing Standard Noiseprint Extraction"
   ]
  },
  {
   "cell_type": "markdown",
   "id": "97430959-6df1-4168-8994-5a0c4112bd14",
   "metadata": {
    "tags": []
   },
   "source": [
    "## Installing packages"
   ]
  },
  {
   "cell_type": "code",
   "execution_count": 7,
   "id": "de9c16e2-b13e-42de-86f4-9a1bdbb49117",
   "metadata": {},
   "outputs": [
    {
     "name": "stderr",
     "output_type": "stream",
     "text": [
      "/opt/anaconda3/envs/Nat_SPNandNoisePrint/lib/python3.7/site-packages/tqdm/auto.py:22: TqdmWarning: IProgress not found. Please update jupyter and ipywidgets. See https://ipywidgets.readthedocs.io/en/stable/user_install.html\n",
      "  from .autonotebook import tqdm as notebook_tqdm\n"
     ]
    },
    {
     "name": "stdout",
     "output_type": "stream",
     "text": [
      "WARNING:tensorflow:From /Users/adam/Desktop/Nat_SPNandNoiseprint/noiseprint_main/noiseprint/network.py:111: calling RandomNormal.__init__ (from tensorflow.python.ops.init_ops) with dtype is deprecated and will be removed in a future version.\n",
      "Instructions for updating:\n",
      "Call initializer instance with the dtype argument instead of passing it to the constructor\n",
      "WARNING:tensorflow:From /opt/anaconda3/envs/Nat_SPNandNoisePrint/lib/python3.7/site-packages/tensorflow_core/python/ops/resource_variable_ops.py:1630: calling BaseResourceVariable.__init__ (from tensorflow.python.ops.resource_variable_ops) with constraint is deprecated and will be removed in a future version.\n",
      "Instructions for updating:\n",
      "If using Keras pass *_constraint arguments to layers.\n",
      "WARNING:tensorflow:From /Users/adam/Desktop/Nat_SPNandNoiseprint/noiseprint_main/noiseprint/network.py:97: calling Constant.__init__ (from tensorflow.python.ops.init_ops) with dtype is deprecated and will be removed in a future version.\n",
      "Instructions for updating:\n",
      "Call initializer instance with the dtype argument instead of passing it to the constructor\n"
     ]
    }
   ],
   "source": [
    "import re\n",
    "import os\n",
    "import pickle\n",
    "import pyheif\n",
    "import umap\n",
    "import pandas as pd\n",
    "\n",
    "from main_extraction import main_extraction\n",
    "from tqdm import tqdm\n",
    "from PIL import Image\n",
    "from pillow_heif import register_heif_opener\n"
   ]
  },
  {
   "cell_type": "markdown",
   "id": "bd5ba2b1-c1bd-436a-9606-47630853e506",
   "metadata": {
    "jp-MarkdownHeadingCollapsed": true,
    "tags": []
   },
   "source": [
    "## Opening Pickle File \n",
    "Opening up a pickle file which, if this has been run previously, will house results and prevent rerunning of the noiseprint extraction."
   ]
  },
  {
   "cell_type": "code",
   "execution_count": 8,
   "id": "86b476a6-7d1b-4971-89b2-8f1450d13db7",
   "metadata": {},
   "outputs": [],
   "source": [
    "with open('image_noise_prints.pickle', 'rb') as handle:\n",
    "    output_dict = pickle.load(handle)"
   ]
  },
  {
   "cell_type": "markdown",
   "id": "c76473b7-ab90-4a86-96c6-679217eac7af",
   "metadata": {
    "tags": []
   },
   "source": [
    "## Running Noiseprint Extraction Across Folders"
   ]
  },
  {
   "cell_type": "code",
   "execution_count": 9,
   "id": "e38ac5af-198e-48c2-b323-41a598577ddf",
   "metadata": {},
   "outputs": [],
   "source": [
    "path_list= [\n",
    "    '../Nat_Old/', #expected time to run - 2.5 hours, 40 photos\n",
    "    '../Nat_Old_2/', #expected time to run - 35 minutes, 10 photos\n",
    "    '../Nat_New/', #expected time to run - 2.5 hours, 40 photos\n",
    "    '../Nat_New_2/', #expected time to run - 35 minutes, 10 photos\n",
    "    '../iCloud_Photos_Converted/', #expected time to run - 55 minutes, 15 photos\n",
    "    # '../iCloud_Photos2/', #expected time to run - 2 hours, 33 photos\n",
    "    '../Adam_Old_Old_2/', #expected time to run - 1.5 hours, 25 photos\n",
    "    '../Adam_Old_Old/', #expected time to run - 1.5 hours, 25 photos\n",
    "    '../Adam_Old_2/', #expected time to run - 35 minutes, 10 photos\n",
    "    '../Adam_Old/'] #expected time to run - 2.5 hours, 40 photos <-\n"
   ]
  },
  {
   "cell_type": "code",
   "execution_count": 10,
   "id": "57dd2ba5-23ec-4e38-bd69-0e4595a0cd2d",
   "metadata": {},
   "outputs": [
    {
     "name": "stdout",
     "output_type": "stream",
     "text": [
      "../Nat_Old/\n"
     ]
    },
    {
     "name": "stderr",
     "output_type": "stream",
     "text": [
      "100%|██████████| 41/41 [00:00<00:00, 56773.35it/s]\n"
     ]
    },
    {
     "name": "stdout",
     "output_type": "stream",
     "text": [
      "20180410_103810.jpg\n",
      "20180409_154622.jpg\n",
      "20180409_132214.jpg\n",
      "20180409_131447.jpg\n",
      "20180409_022438.jpg\n",
      "20180410_100312.jpg\n",
      "20180410_102707.jpg\n",
      "20180408_193248.jpg\n",
      "20180409_124115.jpg\n",
      "20180410_133813.jpg\n",
      "20180409_141305.jpg\n",
      "20180409_142630.jpg\n",
      "20180404_082007.jpg\n",
      "20180409_131422.jpg\n",
      "20180409_124832.jpg\n",
      "20180409_142627.jpg\n",
      "20180409_144525.jpg\n",
      "20180409_013253.jpg\n",
      "20180409_142839.jpg\n",
      "20180409_021636.jpg\n",
      "20180409_144318.jpg\n",
      "20180409_142345.jpg\n",
      "20180404_081734.jpg\n",
      "20180404_083728.jpg\n",
      "20180409_021639.jpg\n",
      "20180410_142549.jpg\n",
      "20180409_124828.jpg\n",
      "20180409_144500.jpg\n",
      "20180409_021206.jpg\n",
      "20180409_021004.jpg\n",
      "20180410_094849.jpg\n",
      "20180409_131605.jpg\n",
      "20180409_013659.jpg\n",
      "20180408_215606.jpg\n",
      "20180408_215612.jpg\n",
      ".ipynb_checkpoints\n",
      "20180409_143020.jpg\n",
      "20180404_200017.jpg\n",
      "20180410_102724.jpg\n",
      "20180409_022430.jpg\n",
      "20180404_200010.jpg\n",
      "../Nat_Old_2/\n"
     ]
    },
    {
     "name": "stderr",
     "output_type": "stream",
     "text": [
      "100%|██████████| 10/10 [00:00<00:00, 27165.18it/s]\n"
     ]
    },
    {
     "name": "stdout",
     "output_type": "stream",
     "text": [
      "20170422_123641.jpg\n",
      "20170421_124733.jpg\n",
      "20170421_123311.jpg\n",
      "20170422_131141.jpg\n",
      "20170422_124405.jpg\n",
      "20170421_123531.jpg\n",
      "20170422_130425.jpg\n",
      "20170421_125218.jpg\n",
      "20170422_122627.jpg\n",
      "20170421_123859.jpg\n",
      "../Nat_New/\n"
     ]
    },
    {
     "name": "stderr",
     "output_type": "stream",
     "text": [
      "100%|██████████| 40/40 [00:00<00:00, 71943.46it/s]\n"
     ]
    },
    {
     "name": "stdout",
     "output_type": "stream",
     "text": [
      "20220913_115546.jpg\n",
      "20220913_141515.jpg\n",
      "20220912_142104.jpg\n",
      "20220912_120839.jpg\n",
      "20220912_152706.jpg\n",
      "20220912_120145.jpg\n",
      "20220912_152711.jpg\n",
      "20220913_141404.jpg\n",
      "20220912_120849.jpg\n",
      "20220912_121412.jpg\n",
      "20220912_165443.jpg\n",
      "20220912_120137.jpg\n",
      "20220913_141238.jpg\n",
      "20220912_121403.jpg\n",
      "20220912_121417.jpg\n",
      "20220912_165109.jpg\n",
      "20220912_143504.jpg\n",
      "20220912_161808.jpg\n",
      "20220913_141744.jpg\n",
      "20220913_141436.jpg\n",
      "20220912_120846.jpg\n",
      "20220913_141540.jpg\n",
      "20220912_143529.jpg\n",
      "20220912_161818.jpg\n",
      "20220912_141840.jpg\n",
      "20220912_160751.jpg\n",
      "20220912_160744.jpg\n",
      "20220913_141447.jpg\n",
      "20220912_165400.jpg\n",
      "20220913_141323.jpg\n",
      "20220912_121040.jpg\n",
      "20220912_143411.jpg\n",
      "20220913_141332.jpg\n",
      "20220912_121044.jpg\n",
      "20220913_141251.jpg\n",
      "20220913_141735.jpg\n",
      "20220912_143416.jpg\n",
      "20220913_141457.jpg\n",
      "20220912_142536.jpg\n",
      "20220912_160806.jpg\n",
      "../Nat_New_2/\n"
     ]
    },
    {
     "name": "stderr",
     "output_type": "stream",
     "text": [
      "100%|██████████| 10/10 [00:00<00:00, 26886.56it/s]\n"
     ]
    },
    {
     "name": "stdout",
     "output_type": "stream",
     "text": [
      "20220729_161136.jpg\n",
      "20220729_161123.jpg\n",
      "20220729_161118.jpg\n",
      "20220729_161140.jpg\n",
      "20220729_161156.jpg\n",
      "20220801_100120.jpg\n",
      "20220729_161209.jpg\n",
      "20220801_142734.jpg\n",
      "20220801_142755.jpg\n",
      "20220729_161129.jpg\n",
      "../iCloud_Photos_Converted/\n"
     ]
    },
    {
     "name": "stderr",
     "output_type": "stream",
     "text": [
      "100%|██████████| 48/48 [00:00<00:00, 73050.29it/s]\n"
     ]
    },
    {
     "name": "stdout",
     "output_type": "stream",
     "text": [
      "IMG_0772.JPG\n",
      "IMG_0808.JPG\n",
      "IMG_0773.JPG\n",
      "IMG_0406.JPG\n",
      "IMG_0760.JPG\n",
      "IMG_0402.JPG\n",
      "256B111D-3852-4602-B4D3-0A3243AF79F9.jpg\n",
      "IMG_0775.JPG\n",
      "IMG_0561.JPG\n",
      "IMG_0401.JPG\n",
      "IMG_0603.JPG\n",
      "IMG_0466.JPG\n",
      "IMG_0511.JPG\n",
      "IMG_0676.JPG\n",
      "29FE8E49-B0BF-46CE-A229-7A31FF3CCA19.jpg\n",
      "IMG_0728.JPG\n",
      "IMG_0700.JPG\n",
      "IMG_0477.JPG\n",
      "IMG_0729.JPG\n",
      "IMG_0724.JPG\n",
      "IMG_0446.JPG\n",
      "IMG_0452.JPG\n",
      "IMG_0527.JPG\n",
      "IMG_0492.JPG\n",
      "IMG_0653.JPG\n",
      "3CDE698F-1FE5-4265-8828-FF75C7F89B67.jpg\n",
      "IMG_0497.JPG\n",
      "IMG_0737.JPG\n",
      "IMG_0443.JPG\n",
      "IMG_0696.JPG\n",
      "IMG_0456.JPG\n",
      ".ipynb_checkpoints\n",
      "IMG_0626.JPG\n",
      "IMG_0785.JPG\n",
      "IMG_0787.JPG\n",
      "IMG_0432.JPG\n",
      "IMG_0426.JPG\n",
      "IMG_0779.JPG\n",
      "IMG_0751.JPG\n",
      "IMG_0769.JPG\n",
      "IMG_0422.JPG\n",
      "IMG_0436.JPG\n",
      "IMG_0783.JPG\n",
      "IMG_0742.JPG\n",
      "IMG_0622.JPG\n",
      "IMG_0804.JPG\n",
      "IMG_0421.JPG\n",
      "IMG_0757.JPG\n",
      "../Adam_Old_Old_2/\n"
     ]
    },
    {
     "name": "stderr",
     "output_type": "stream",
     "text": [
      "100%|██████████| 25/25 [00:00<00:00, 57205.46it/s]\n"
     ]
    },
    {
     "name": "stdout",
     "output_type": "stream",
     "text": [
      "1471008637490.jpg\n",
      "1465551508276.jpg\n",
      "1464357130408.jpg\n",
      "1464360436185.jpg\n",
      "1470996630834.jpg\n",
      "1469887004261.jpg\n",
      "1467927340843.jpg\n",
      "1470996697796.jpg\n",
      "1470997377352.jpg\n",
      "1470065261673.jpg\n",
      "1465583180017.jpg\n",
      "1464898321116.jpg\n",
      "1466781660935.jpg\n",
      "1464349828163.jpg\n",
      "1470062976405.jpg\n",
      "1464960198870.jpg\n",
      "1464363334168.jpg\n",
      "1471252140531.jpg\n",
      "1470997171519.jpg\n",
      "1470997877266.jpg\n",
      "1468406614097.jpg\n",
      "1469905003674.jpg\n",
      "1469923979072.jpg\n",
      "1470140981460.jpg\n",
      "1461662216060.jpg\n",
      "../Adam_Old_Old/\n"
     ]
    },
    {
     "name": "stderr",
     "output_type": "stream",
     "text": [
      "100%|██████████| 25/25 [00:00<00:00, 48839.12it/s]\n"
     ]
    },
    {
     "name": "stdout",
     "output_type": "stream",
     "text": [
      "20160329_205342.jpg\n",
      "20160726_152427.jpg\n",
      "20160523_145635.jpg\n",
      "20160730_221628.jpg\n",
      "20160426_193857.jpg\n",
      "20160404_144140.jpg\n",
      "20160512_105938.jpg\n",
      "20160427_104705.jpg\n",
      "20160329_211756.jpg\n",
      "20160329_221454.jpg\n",
      "20160329_215320.jpg\n",
      "20160527_161557.jpg\n",
      "20160610_191650.jpg\n",
      "20160329_210525.jpg\n",
      "20160427_104446.jpg\n",
      "20160610_192002.jpg\n",
      "20160730_221637.jpg\n",
      "20160704_203908.jpg\n",
      "20160427_104753.jpg\n",
      "20160818_095954.jpg\n",
      "20160427_104540.jpg\n",
      "20160329_203932.jpg\n",
      "20160512_105956.jpg\n",
      "20160427_104620.jpg\n",
      "20160610_192102.jpg\n",
      "../Adam_Old_2/\n"
     ]
    },
    {
     "name": "stderr",
     "output_type": "stream",
     "text": [
      "100%|██████████| 10/10 [00:00<00:00, 29167.62it/s]\n"
     ]
    },
    {
     "name": "stdout",
     "output_type": "stream",
     "text": [
      "20191019_161551.jpg\n",
      "20191019_161441.jpg\n",
      "20191019_161859.jpg\n",
      "20191019_130201.jpg\n",
      "20191019_141404.jpg\n",
      "20191019_130841.jpg\n",
      "20191019_142219.jpg\n",
      "20191019_142208.jpg\n",
      "20191019_162325.jpg\n",
      "20191019_161604.jpg\n",
      "../Adam_Old/\n"
     ]
    },
    {
     "name": "stderr",
     "output_type": "stream",
     "text": [
      "100%|██████████| 40/40 [00:00<00:00, 69327.34it/s]"
     ]
    },
    {
     "name": "stdout",
     "output_type": "stream",
     "text": [
      "20191014_195945.jpg\n",
      "20191016_123512.jpg\n",
      "20191016_132146.jpg\n",
      "20191015_160752.jpg\n",
      "20191009_141612.jpg\n",
      "20191010_003009.jpg\n",
      "20191016_124046.jpg\n",
      "20191017_170043.jpg\n",
      "20191015_154545.jpg\n",
      "20191017_165840.jpg\n",
      "20191018_144805.jpg\n",
      "20191015_155159.jpg\n",
      "20191016_130916.jpg\n",
      "20191009_103451.jpg\n",
      "20191014_145319.jpg\n",
      "20191016_130929.jpg\n",
      "20191016_123216.jpg\n",
      "20191016_122726.jpg\n",
      "20191015_155639.jpg\n",
      "20191014_200000.jpg\n",
      "20191009_181508.jpg\n",
      "20191016_214201.jpg\n",
      "20191016_131207.jpg\n",
      "20191015_154518.jpg\n",
      "20191015_154929.jpg\n",
      "20191015_154914.jpg\n",
      "20191016_131204.jpg\n",
      "20191016_130923.jpg\n",
      "20191016_124201.jpg\n",
      "20191015_154853.jpg\n",
      "20191016_123810.jpg\n",
      "20191017_171653.jpg\n",
      "20191014_145711.jpg\n",
      "20191014_115433.jpg\n",
      "20191016_124049.jpg\n",
      "20191015_155330.jpg\n",
      "20191016_123900.jpg\n",
      "20191015_202412.jpg\n",
      "20191014_115435.jpg\n",
      "20191017_171619.jpg\n"
     ]
    },
    {
     "name": "stderr",
     "output_type": "stream",
     "text": [
      "\n"
     ]
    }
   ],
   "source": [
    "for path in path_list:\n",
    "    print(path)\n",
    "    directory = os.fsencode(path)\n",
    "    for file in tqdm(os.listdir(directory)):\n",
    "        filename = os.fsdecode(file)\n",
    "        path_strip = re.sub(r'[^a-zA-Z0-9]', '', path)\n",
    "        print(filename)\n",
    "        if path_strip + '_' + filename in output_dict.keys():\n",
    "            continue\n",
    "        elif filename == '.ipynb_checkpoints':\n",
    "            continue\n",
    "        else:\n",
    "            output_dict[path_strip + '_' + filename] = main_extraction(path + filename)"
   ]
  },
  {
   "cell_type": "markdown",
   "id": "165f884a-75af-4277-9fef-50face6ea33a",
   "metadata": {
    "tags": []
   },
   "source": [
    "## Saving Output"
   ]
  },
  {
   "cell_type": "code",
   "execution_count": 11,
   "id": "7a107e1e-9b01-472f-bde3-2992b653bc70",
   "metadata": {},
   "outputs": [
    {
     "data": {
      "text/plain": [
       "294"
      ]
     },
     "execution_count": 11,
     "metadata": {},
     "output_type": "execute_result"
    }
   ],
   "source": [
    "len(output_dict)"
   ]
  },
  {
   "cell_type": "code",
   "execution_count": 12,
   "id": "52855cb1-098e-42dc-bc22-592d4178ef1a",
   "metadata": {},
   "outputs": [],
   "source": [
    "with open('image_noise_prints.pickle', 'wb') as handle:\n",
    "    pickle.dump(output_dict, handle, protocol=pickle.HIGHEST_PROTOCOL)"
   ]
  },
  {
   "cell_type": "markdown",
   "id": "5706b6b4-8c59-40b2-aa36-8e089209aa5b",
   "metadata": {},
   "source": [
    "## Testing Output"
   ]
  },
  {
   "cell_type": "code",
   "execution_count": 13,
   "id": "9eb84bf5-786d-4469-a0c2-0f6af875e8bd",
   "metadata": {},
   "outputs": [],
   "source": [
    "with open('image_noise_prints.pickle', 'rb') as handle:\n",
    "    output_dict = pickle.load(handle)"
   ]
  },
  {
   "cell_type": "markdown",
   "id": "596ab3a8-8d4e-4aa7-89c4-a197da9c1f52",
   "metadata": {},
   "source": [
    "#### Flattening data into vectors"
   ]
  },
  {
   "cell_type": "code",
   "execution_count": 15,
   "id": "09bb20a6-7784-4ff4-999d-418415cb8db3",
   "metadata": {},
   "outputs": [],
   "source": [
    "# data = []\n",
    "# keys = []\n",
    "\n",
    "# for key in tqdm(list(output_dict.keys())):\n",
    "#     data.append(output_dict[key]['noiseprint'].flatten())\n",
    "#     keys.append(key)"
   ]
  },
  {
   "cell_type": "code",
   "execution_count": null,
   "id": "69653f0b-de68-4d1c-8964-9766e76c9633",
   "metadata": {},
   "outputs": [
    {
     "name": "stderr",
     "output_type": "stream",
     "text": [
      " 46%|████▌     | 134/294 [1:03:20<3:49:07, 85.92s/it]"
     ]
    }
   ],
   "source": [
    "import pandas as pd\n",
    "\n",
    "noiseprint_df = pd.DataFrame()\n",
    "\n",
    "for key in tqdm(list(output_dict.keys())):\n",
    "    df = pd.DataFrame(data=output_dict[key]['noiseprint'].flatten())\n",
    "    df['image'] = key\n",
    "    noiseprint_df = noiseprint_df.append(df, ignore_index=True)"
   ]
  },
  {
   "cell_type": "code",
   "execution_count": null,
   "id": "ca51be77-8022-4f74-94b9-6b03ccc50b69",
   "metadata": {},
   "outputs": [],
   "source": [
    "noiseprint_df"
   ]
  },
  {
   "cell_type": "code",
   "execution_count": null,
   "id": "5b1a10fe-be06-458c-8609-dfd1ed4f0415",
   "metadata": {},
   "outputs": [],
   "source": [
    "import pandas as pd\n",
    "\n",
    "noiseprint_df = pd.DataFrame(data=data)\n",
    "noiseprint_df['image'] = keys\n",
    "# output_df = pd.DataFrame(data={'image': keys, 'noiseprint': data})\n",
    "noiseprint_df"
   ]
  },
  {
   "cell_type": "code",
   "execution_count": null,
   "id": "9f1c63d3-f1e7-4017-b618-0d93a26ebd66",
   "metadata": {},
   "outputs": [],
   "source": []
  },
  {
   "cell_type": "code",
   "execution_count": null,
   "id": "e47c96bf-d356-49e4-af51-a82f2abf0416",
   "metadata": {},
   "outputs": [],
   "source": [
    "# output_df_expanded = pd.DataFrame(output_df['noiseprint'].to_list())\n",
    "# output_df_expanded"
   ]
  },
  {
   "cell_type": "code",
   "execution_count": null,
   "id": "3012e142-2570-4d4a-9287-40faa461065d",
   "metadata": {},
   "outputs": [],
   "source": [
    "reducer = umap.UMAP()\n",
    "embedding = reducer.fit_transform(noiseprint_df)\n",
    "embedding.shape"
   ]
  },
  {
   "cell_type": "code",
   "execution_count": null,
   "id": "a8353e74-aca9-4406-8088-01edce4da11e",
   "metadata": {},
   "outputs": [],
   "source": [
    "plt.scatter(\n",
    "    embedding[:, 0],\n",
    "    embedding[:, 1],\n",
    "    c=[sns.color_palette()[x] for x in penguins.species.map({\"Adelie\":0, \"Chinstrap\":1, \"Gentoo\":2})])\n",
    "plt.gca().set_aspect('equal', 'datalim')\n",
    "plt.title('UMAP projection of the Penguin dataset', fontsize=24);"
   ]
  },
  {
   "cell_type": "markdown",
   "id": "575d2d6a-52d8-46cb-98bb-2b588053d0b6",
   "metadata": {
    "jp-MarkdownHeadingCollapsed": true,
    "tags": []
   },
   "source": [
    "# Performing Blind Localisation Noiseprint"
   ]
  },
  {
   "cell_type": "code",
   "execution_count": 7,
   "id": "9bb0c748-018b-4c50-a1e2-4fc284be9532",
   "metadata": {},
   "outputs": [],
   "source": [
    "import pickle"
   ]
  },
  {
   "cell_type": "code",
   "execution_count": 19,
   "id": "24bb738d-84dc-4980-9377-48143cbff2f0",
   "metadata": {},
   "outputs": [],
   "source": [
    "# updated_output_dict = {}\n",
    "with open('image_noise_prints_2.pickle', 'rb') as handle:\n",
    "    updated_output_dict = pickle.load(handle)"
   ]
  },
  {
   "cell_type": "code",
   "execution_count": 20,
   "id": "7b5e9764-a7ac-4dce-bca3-faa1c4c682cf",
   "metadata": {},
   "outputs": [
    {
     "name": "stdout",
     "output_type": "stream",
     "text": [
      "../Nat_Old/\n"
     ]
    },
    {
     "name": "stderr",
     "output_type": "stream",
     "text": [
      "100%|██████████| 41/41 [00:00<00:00, 65736.42it/s]\n"
     ]
    },
    {
     "name": "stdout",
     "output_type": "stream",
     "text": [
      "20180410_103810.jpg\n",
      "20180409_154622.jpg\n",
      "20180409_132214.jpg\n",
      "20180409_131447.jpg\n",
      "20180409_022438.jpg\n",
      "20180410_100312.jpg\n",
      "20180410_102707.jpg\n",
      "20180408_193248.jpg\n",
      "20180409_124115.jpg\n",
      "20180410_133813.jpg\n",
      "20180409_141305.jpg\n",
      "20180409_142630.jpg\n",
      "20180404_082007.jpg\n",
      "20180409_131422.jpg\n",
      "20180409_124832.jpg\n",
      "20180409_142627.jpg\n",
      "20180409_144525.jpg\n",
      "20180409_013253.jpg\n",
      "20180409_142839.jpg\n",
      "20180409_021636.jpg\n",
      "20180409_144318.jpg\n",
      "20180409_142345.jpg\n",
      "20180404_081734.jpg\n",
      "20180404_083728.jpg\n",
      "20180409_021639.jpg\n",
      "20180410_142549.jpg\n",
      "20180409_124828.jpg\n",
      "20180409_144500.jpg\n",
      "20180409_021206.jpg\n",
      "20180409_021004.jpg\n",
      "20180410_094849.jpg\n",
      "20180409_131605.jpg\n",
      "20180409_013659.jpg\n",
      "20180408_215606.jpg\n",
      "20180408_215612.jpg\n",
      ".ipynb_checkpoints\n",
      "20180409_143020.jpg\n",
      "20180404_200017.jpg\n",
      "20180410_102724.jpg\n",
      "20180409_022430.jpg\n",
      "20180404_200010.jpg\n",
      "../Nat_Old_2/\n"
     ]
    },
    {
     "name": "stderr",
     "output_type": "stream",
     "text": [
      "100%|██████████| 10/10 [00:00<00:00, 53842.16it/s]\n"
     ]
    },
    {
     "name": "stdout",
     "output_type": "stream",
     "text": [
      "20170422_123641.jpg\n",
      "20170421_124733.jpg\n",
      "20170421_123311.jpg\n",
      "20170422_131141.jpg\n",
      "20170422_124405.jpg\n",
      "20170421_123531.jpg\n",
      "20170422_130425.jpg\n",
      "20170421_125218.jpg\n",
      "20170422_122627.jpg\n",
      "20170421_123859.jpg\n",
      "../Nat_New/\n"
     ]
    },
    {
     "name": "stderr",
     "output_type": "stream",
     "text": [
      "100%|██████████| 40/40 [00:00<00:00, 93884.81it/s]\n"
     ]
    },
    {
     "name": "stdout",
     "output_type": "stream",
     "text": [
      "20220913_115546.jpg\n",
      "20220913_141515.jpg\n",
      "20220912_142104.jpg\n",
      "20220912_120839.jpg\n",
      "20220912_152706.jpg\n",
      "20220912_120145.jpg\n",
      "20220912_152711.jpg\n",
      "20220913_141404.jpg\n",
      "20220912_120849.jpg\n",
      "20220912_121412.jpg\n",
      "20220912_165443.jpg\n",
      "20220912_120137.jpg\n",
      "20220913_141238.jpg\n",
      "20220912_121403.jpg\n",
      "20220912_121417.jpg\n",
      "20220912_165109.jpg\n",
      "20220912_143504.jpg\n",
      "20220912_161808.jpg\n",
      "20220913_141744.jpg\n",
      "20220913_141436.jpg\n",
      "20220912_120846.jpg\n",
      "20220913_141540.jpg\n",
      "20220912_143529.jpg\n",
      "20220912_161818.jpg\n",
      "20220912_141840.jpg\n",
      "20220912_160751.jpg\n",
      "20220912_160744.jpg\n",
      "20220913_141447.jpg\n",
      "20220912_165400.jpg\n",
      "20220913_141323.jpg\n",
      "20220912_121040.jpg\n",
      "20220912_143411.jpg\n",
      "20220913_141332.jpg\n",
      "20220912_121044.jpg\n",
      "20220913_141251.jpg\n",
      "20220913_141735.jpg\n",
      "20220912_143416.jpg\n",
      "20220913_141457.jpg\n",
      "20220912_142536.jpg\n",
      "20220912_160806.jpg\n",
      "../Nat_New_2/\n"
     ]
    },
    {
     "name": "stderr",
     "output_type": "stream",
     "text": [
      "100%|██████████| 10/10 [00:00<00:00, 30750.03it/s]\n"
     ]
    },
    {
     "name": "stdout",
     "output_type": "stream",
     "text": [
      "20220729_161136.jpg\n",
      "20220729_161123.jpg\n",
      "20220729_161118.jpg\n",
      "20220729_161140.jpg\n",
      "20220729_161156.jpg\n",
      "20220801_100120.jpg\n",
      "20220729_161209.jpg\n",
      "20220801_142734.jpg\n",
      "20220801_142755.jpg\n",
      "20220729_161129.jpg\n",
      "../iCloud_Photos_Converted/\n"
     ]
    },
    {
     "name": "stderr",
     "output_type": "stream",
     "text": [
      "  0%|          | 0/48 [00:00<?, ?it/s]"
     ]
    },
    {
     "name": "stdout",
     "output_type": "stream",
     "text": [
      "IMG_0772.JPG\n"
     ]
    },
    {
     "name": "stderr",
     "output_type": "stream",
     "text": [
      "  2%|▏         | 1/48 [00:37<29:03, 37.10s/it]"
     ]
    },
    {
     "name": "stdout",
     "output_type": "stream",
     "text": [
      "IMG_0808.JPG\n"
     ]
    },
    {
     "name": "stderr",
     "output_type": "stream",
     "text": [
      "  4%|▍         | 2/48 [01:08<25:49, 33.69s/it]"
     ]
    },
    {
     "name": "stdout",
     "output_type": "stream",
     "text": [
      "IMG_0773.JPG\n"
     ]
    },
    {
     "name": "stderr",
     "output_type": "stream",
     "text": [
      "  6%|▋         | 3/48 [01:53<29:14, 39.00s/it]"
     ]
    },
    {
     "name": "stdout",
     "output_type": "stream",
     "text": [
      "IMG_0406.JPG\n"
     ]
    },
    {
     "name": "stderr",
     "output_type": "stream",
     "text": [
      "  8%|▊         | 4/48 [02:22<25:30, 34.78s/it]"
     ]
    },
    {
     "name": "stdout",
     "output_type": "stream",
     "text": [
      "IMG_0760.JPG\n"
     ]
    },
    {
     "name": "stderr",
     "output_type": "stream",
     "text": [
      " 10%|█         | 5/48 [02:40<20:39, 28.84s/it]"
     ]
    },
    {
     "name": "stdout",
     "output_type": "stream",
     "text": [
      "IMG_0402.JPG\n"
     ]
    },
    {
     "name": "stderr",
     "output_type": "stream",
     "text": [
      " 12%|█▎        | 6/48 [03:08<19:59, 28.56s/it]"
     ]
    },
    {
     "name": "stdout",
     "output_type": "stream",
     "text": [
      "256B111D-3852-4602-B4D3-0A3243AF79F9.jpg\n"
     ]
    },
    {
     "name": "stderr",
     "output_type": "stream",
     "text": [
      " 15%|█▍        | 7/48 [03:27<17:20, 25.38s/it]"
     ]
    },
    {
     "name": "stdout",
     "output_type": "stream",
     "text": [
      "IMG_0775.JPG\n"
     ]
    },
    {
     "name": "stderr",
     "output_type": "stream",
     "text": [
      " 17%|█▋        | 8/48 [04:05<19:40, 29.51s/it]"
     ]
    },
    {
     "name": "stdout",
     "output_type": "stream",
     "text": [
      "IMG_0561.JPG\n"
     ]
    },
    {
     "name": "stderr",
     "output_type": "stream",
     "text": [
      " 19%|█▉        | 9/48 [04:25<17:08, 26.37s/it]"
     ]
    },
    {
     "name": "stdout",
     "output_type": "stream",
     "text": [
      "IMG_0401.JPG\n"
     ]
    },
    {
     "name": "stderr",
     "output_type": "stream",
     "text": [
      " 21%|██        | 10/48 [04:59<18:17, 28.88s/it]"
     ]
    },
    {
     "name": "stdout",
     "output_type": "stream",
     "text": [
      "IMG_0603.JPG\n"
     ]
    },
    {
     "name": "stderr",
     "output_type": "stream",
     "text": [
      " 23%|██▎       | 11/48 [05:29<17:59, 29.17s/it]"
     ]
    },
    {
     "name": "stdout",
     "output_type": "stream",
     "text": [
      "IMG_0466.JPG\n"
     ]
    },
    {
     "name": "stderr",
     "output_type": "stream",
     "text": [
      " 25%|██▌       | 12/48 [05:56<17:02, 28.41s/it]"
     ]
    },
    {
     "name": "stdout",
     "output_type": "stream",
     "text": [
      "IMG_0511.JPG\n"
     ]
    },
    {
     "name": "stderr",
     "output_type": "stream",
     "text": [
      " 27%|██▋       | 13/48 [06:23<16:26, 28.18s/it]"
     ]
    },
    {
     "name": "stdout",
     "output_type": "stream",
     "text": [
      "IMG_0676.JPG\n"
     ]
    },
    {
     "name": "stderr",
     "output_type": "stream",
     "text": [
      " 29%|██▉       | 14/48 [06:55<16:38, 29.36s/it]"
     ]
    },
    {
     "name": "stdout",
     "output_type": "stream",
     "text": [
      "29FE8E49-B0BF-46CE-A229-7A31FF3CCA19.jpg\n"
     ]
    },
    {
     "name": "stderr",
     "output_type": "stream",
     "text": [
      " 31%|███▏      | 15/48 [07:15<14:28, 26.33s/it]"
     ]
    },
    {
     "name": "stdout",
     "output_type": "stream",
     "text": [
      "IMG_0728.JPG\n"
     ]
    },
    {
     "name": "stderr",
     "output_type": "stream",
     "text": [
      " 33%|███▎      | 16/48 [07:44<14:29, 27.16s/it]"
     ]
    },
    {
     "name": "stdout",
     "output_type": "stream",
     "text": [
      "IMG_0700.JPG\n"
     ]
    },
    {
     "name": "stderr",
     "output_type": "stream",
     "text": [
      " 35%|███▌      | 17/48 [08:14<14:29, 28.06s/it]"
     ]
    },
    {
     "name": "stdout",
     "output_type": "stream",
     "text": [
      "IMG_0477.JPG\n"
     ]
    },
    {
     "name": "stderr",
     "output_type": "stream",
     "text": [
      " 38%|███▊      | 18/48 [08:43<14:12, 28.43s/it]"
     ]
    },
    {
     "name": "stdout",
     "output_type": "stream",
     "text": [
      "IMG_0729.JPG\n"
     ]
    },
    {
     "name": "stderr",
     "output_type": "stream",
     "text": [
      " 40%|███▉      | 19/48 [08:50<10:39, 22.04s/it]"
     ]
    },
    {
     "name": "stdout",
     "output_type": "stream",
     "text": [
      "IMG_0724.JPG\n"
     ]
    },
    {
     "name": "stderr",
     "output_type": "stream",
     "text": [
      " 42%|████▏     | 20/48 [09:15<10:35, 22.71s/it]"
     ]
    },
    {
     "name": "stdout",
     "output_type": "stream",
     "text": [
      "IMG_0446.JPG\n"
     ]
    },
    {
     "name": "stderr",
     "output_type": "stream",
     "text": [
      " 44%|████▍     | 21/48 [09:44<11:08, 24.78s/it]"
     ]
    },
    {
     "name": "stdout",
     "output_type": "stream",
     "text": [
      "IMG_0452.JPG\n"
     ]
    },
    {
     "name": "stderr",
     "output_type": "stream",
     "text": [
      " 46%|████▌     | 22/48 [10:15<11:28, 26.49s/it]"
     ]
    },
    {
     "name": "stdout",
     "output_type": "stream",
     "text": [
      "IMG_0527.JPG\n"
     ]
    },
    {
     "name": "stderr",
     "output_type": "stream",
     "text": [
      " 48%|████▊     | 23/48 [10:43<11:13, 26.94s/it]"
     ]
    },
    {
     "name": "stdout",
     "output_type": "stream",
     "text": [
      "IMG_0492.JPG\n"
     ]
    },
    {
     "name": "stderr",
     "output_type": "stream",
     "text": [
      " 50%|█████     | 24/48 [11:14<11:17, 28.25s/it]"
     ]
    },
    {
     "name": "stdout",
     "output_type": "stream",
     "text": [
      "IMG_0653.JPG\n"
     ]
    },
    {
     "name": "stderr",
     "output_type": "stream",
     "text": [
      " 52%|█████▏    | 25/48 [11:41<10:45, 28.05s/it]"
     ]
    },
    {
     "name": "stdout",
     "output_type": "stream",
     "text": [
      "3CDE698F-1FE5-4265-8828-FF75C7F89B67.jpg\n"
     ]
    },
    {
     "name": "stderr",
     "output_type": "stream",
     "text": [
      " 54%|█████▍    | 26/48 [12:01<09:23, 25.61s/it]"
     ]
    },
    {
     "name": "stdout",
     "output_type": "stream",
     "text": [
      "IMG_0497.JPG\n"
     ]
    },
    {
     "name": "stderr",
     "output_type": "stream",
     "text": [
      " 56%|█████▋    | 27/48 [12:33<09:37, 27.51s/it]"
     ]
    },
    {
     "name": "stdout",
     "output_type": "stream",
     "text": [
      "IMG_0737.JPG\n"
     ]
    },
    {
     "name": "stderr",
     "output_type": "stream",
     "text": [
      " 58%|█████▊    | 28/48 [13:01<09:09, 27.47s/it]"
     ]
    },
    {
     "name": "stdout",
     "output_type": "stream",
     "text": [
      "IMG_0443.JPG\n"
     ]
    },
    {
     "name": "stderr",
     "output_type": "stream",
     "text": [
      " 60%|██████    | 29/48 [13:27<08:34, 27.08s/it]"
     ]
    },
    {
     "name": "stdout",
     "output_type": "stream",
     "text": [
      "IMG_0696.JPG\n"
     ]
    },
    {
     "name": "stderr",
     "output_type": "stream",
     "text": [
      " 62%|██████▎   | 30/48 [13:33<06:15, 20.86s/it]"
     ]
    },
    {
     "name": "stdout",
     "output_type": "stream",
     "text": [
      "IMG_0456.JPG\n"
     ]
    },
    {
     "name": "stderr",
     "output_type": "stream",
     "text": [
      " 65%|██████▍   | 31/48 [14:10<07:15, 25.61s/it]"
     ]
    },
    {
     "name": "stdout",
     "output_type": "stream",
     "text": [
      ".ipynb_checkpoints\n",
      "IMG_0626.JPG\n"
     ]
    },
    {
     "name": "stderr",
     "output_type": "stream",
     "text": [
      " 69%|██████▉   | 33/48 [14:16<03:47, 15.16s/it]"
     ]
    },
    {
     "name": "stdout",
     "output_type": "stream",
     "text": [
      "IMG_0785.JPG\n"
     ]
    },
    {
     "name": "stderr",
     "output_type": "stream",
     "text": [
      " 71%|███████   | 34/48 [14:45<04:20, 18.61s/it]"
     ]
    },
    {
     "name": "stdout",
     "output_type": "stream",
     "text": [
      "IMG_0787.JPG\n"
     ]
    },
    {
     "name": "stderr",
     "output_type": "stream",
     "text": [
      " 73%|███████▎  | 35/48 [14:52<03:21, 15.48s/it]"
     ]
    },
    {
     "name": "stdout",
     "output_type": "stream",
     "text": [
      "IMG_0432.JPG\n"
     ]
    },
    {
     "name": "stderr",
     "output_type": "stream",
     "text": [
      " 75%|███████▌  | 36/48 [15:18<03:42, 18.55s/it]"
     ]
    },
    {
     "name": "stdout",
     "output_type": "stream",
     "text": [
      "IMG_0426.JPG\n"
     ]
    },
    {
     "name": "stderr",
     "output_type": "stream",
     "text": [
      " 77%|███████▋  | 37/48 [15:52<04:10, 22.73s/it]"
     ]
    },
    {
     "name": "stdout",
     "output_type": "stream",
     "text": [
      "IMG_0779.JPG\n"
     ]
    },
    {
     "name": "stderr",
     "output_type": "stream",
     "text": [
      " 79%|███████▉  | 38/48 [16:00<03:06, 18.68s/it]"
     ]
    },
    {
     "name": "stdout",
     "output_type": "stream",
     "text": [
      "IMG_0751.JPG\n"
     ]
    },
    {
     "name": "stderr",
     "output_type": "stream",
     "text": [
      " 81%|████████▏ | 39/48 [16:33<03:23, 22.65s/it]"
     ]
    },
    {
     "name": "stdout",
     "output_type": "stream",
     "text": [
      "IMG_0769.JPG\n"
     ]
    },
    {
     "name": "stderr",
     "output_type": "stream",
     "text": [
      " 83%|████████▎ | 40/48 [17:02<03:16, 24.53s/it]"
     ]
    },
    {
     "name": "stdout",
     "output_type": "stream",
     "text": [
      "IMG_0422.JPG\n"
     ]
    },
    {
     "name": "stderr",
     "output_type": "stream",
     "text": [
      " 85%|████████▌ | 41/48 [17:32<03:03, 26.17s/it]"
     ]
    },
    {
     "name": "stdout",
     "output_type": "stream",
     "text": [
      "IMG_0436.JPG\n"
     ]
    },
    {
     "name": "stderr",
     "output_type": "stream",
     "text": [
      " 88%|████████▊ | 42/48 [18:02<02:44, 27.43s/it]"
     ]
    },
    {
     "name": "stdout",
     "output_type": "stream",
     "text": [
      "IMG_0783.JPG\n"
     ]
    },
    {
     "name": "stderr",
     "output_type": "stream",
     "text": [
      " 90%|████████▉ | 43/48 [18:10<01:47, 21.55s/it]"
     ]
    },
    {
     "name": "stdout",
     "output_type": "stream",
     "text": [
      "IMG_0742.JPG\n"
     ]
    },
    {
     "name": "stderr",
     "output_type": "stream",
     "text": [
      " 92%|█████████▏| 44/48 [18:41<01:37, 24.42s/it]"
     ]
    },
    {
     "name": "stdout",
     "output_type": "stream",
     "text": [
      "IMG_0622.JPG\n"
     ]
    },
    {
     "name": "stderr",
     "output_type": "stream",
     "text": [
      " 94%|█████████▍| 45/48 [18:49<00:58, 19.35s/it]"
     ]
    },
    {
     "name": "stdout",
     "output_type": "stream",
     "text": [
      "IMG_0804.JPG\n"
     ]
    },
    {
     "name": "stderr",
     "output_type": "stream",
     "text": [
      " 96%|█████████▌| 46/48 [19:17<00:44, 22.18s/it]"
     ]
    },
    {
     "name": "stdout",
     "output_type": "stream",
     "text": [
      "IMG_0421.JPG\n"
     ]
    },
    {
     "name": "stderr",
     "output_type": "stream",
     "text": [
      " 98%|█████████▊| 47/48 [19:50<00:25, 25.32s/it]"
     ]
    },
    {
     "name": "stdout",
     "output_type": "stream",
     "text": [
      "IMG_0757.JPG\n"
     ]
    },
    {
     "name": "stderr",
     "output_type": "stream",
     "text": [
      "100%|██████████| 48/48 [20:23<00:00, 25.48s/it]\n"
     ]
    },
    {
     "name": "stdout",
     "output_type": "stream",
     "text": [
      "../Adam_Old_Old_2/\n"
     ]
    },
    {
     "name": "stderr",
     "output_type": "stream",
     "text": [
      "  0%|          | 0/25 [00:00<?, ?it/s]"
     ]
    },
    {
     "name": "stdout",
     "output_type": "stream",
     "text": [
      "1471008637490.jpg\n"
     ]
    },
    {
     "name": "stderr",
     "output_type": "stream",
     "text": [
      "  4%|▍         | 1/25 [00:03<01:13,  3.05s/it]"
     ]
    },
    {
     "name": "stdout",
     "output_type": "stream",
     "text": [
      "1465551508276.jpg\n"
     ]
    },
    {
     "name": "stderr",
     "output_type": "stream",
     "text": [
      "  8%|▊         | 2/25 [00:07<01:23,  3.62s/it]"
     ]
    },
    {
     "name": "stdout",
     "output_type": "stream",
     "text": [
      "1464357130408.jpg\n"
     ]
    },
    {
     "name": "stderr",
     "output_type": "stream",
     "text": [
      " 12%|█▏        | 3/25 [00:14<02:00,  5.50s/it]"
     ]
    },
    {
     "name": "stdout",
     "output_type": "stream",
     "text": [
      "1464360436185.jpg\n"
     ]
    },
    {
     "name": "stderr",
     "output_type": "stream",
     "text": [
      " 16%|█▌        | 4/25 [00:21<02:05,  5.97s/it]"
     ]
    },
    {
     "name": "stdout",
     "output_type": "stream",
     "text": [
      "1470996630834.jpg\n"
     ]
    },
    {
     "name": "stderr",
     "output_type": "stream",
     "text": [
      " 20%|██        | 5/25 [00:24<01:39,  4.95s/it]"
     ]
    },
    {
     "name": "stdout",
     "output_type": "stream",
     "text": [
      "1469887004261.jpg\n"
     ]
    },
    {
     "name": "stderr",
     "output_type": "stream",
     "text": [
      " 24%|██▍       | 6/25 [00:30<01:42,  5.37s/it]"
     ]
    },
    {
     "name": "stdout",
     "output_type": "stream",
     "text": [
      "1467927340843.jpg\n"
     ]
    },
    {
     "name": "stderr",
     "output_type": "stream",
     "text": [
      " 28%|██▊       | 7/25 [00:34<01:26,  4.82s/it]"
     ]
    },
    {
     "name": "stdout",
     "output_type": "stream",
     "text": [
      "1470996697796.jpg\n"
     ]
    },
    {
     "name": "stderr",
     "output_type": "stream",
     "text": [
      " 32%|███▏      | 8/25 [00:41<01:31,  5.38s/it]"
     ]
    },
    {
     "name": "stdout",
     "output_type": "stream",
     "text": [
      "1470997377352.jpg\n"
     ]
    },
    {
     "name": "stderr",
     "output_type": "stream",
     "text": [
      " 36%|███▌      | 9/25 [00:48<01:37,  6.07s/it]"
     ]
    },
    {
     "name": "stdout",
     "output_type": "stream",
     "text": [
      "1470065261673.jpg\n"
     ]
    },
    {
     "name": "stderr",
     "output_type": "stream",
     "text": [
      " 40%|████      | 10/25 [00:54<01:31,  6.12s/it]"
     ]
    },
    {
     "name": "stdout",
     "output_type": "stream",
     "text": [
      "1465583180017.jpg\n"
     ]
    },
    {
     "name": "stderr",
     "output_type": "stream",
     "text": [
      " 44%|████▍     | 11/25 [01:01<01:26,  6.19s/it]"
     ]
    },
    {
     "name": "stdout",
     "output_type": "stream",
     "text": [
      "1464898321116.jpg\n"
     ]
    },
    {
     "name": "stderr",
     "output_type": "stream",
     "text": [
      " 48%|████▊     | 12/25 [01:07<01:19,  6.12s/it]"
     ]
    },
    {
     "name": "stdout",
     "output_type": "stream",
     "text": [
      "1466781660935.jpg\n"
     ]
    },
    {
     "name": "stderr",
     "output_type": "stream",
     "text": [
      " 52%|█████▏    | 13/25 [01:10<01:03,  5.33s/it]"
     ]
    },
    {
     "name": "stdout",
     "output_type": "stream",
     "text": [
      "1464349828163.jpg\n"
     ]
    },
    {
     "name": "stderr",
     "output_type": "stream",
     "text": [
      " 56%|█████▌    | 14/25 [01:14<00:54,  4.91s/it]"
     ]
    },
    {
     "name": "stdout",
     "output_type": "stream",
     "text": [
      "1470062976405.jpg\n"
     ]
    },
    {
     "name": "stderr",
     "output_type": "stream",
     "text": [
      " 60%|██████    | 15/25 [01:17<00:44,  4.43s/it]"
     ]
    },
    {
     "name": "stdout",
     "output_type": "stream",
     "text": [
      "1464960198870.jpg\n"
     ]
    },
    {
     "name": "stderr",
     "output_type": "stream",
     "text": [
      " 64%|██████▍   | 16/25 [01:23<00:44,  4.89s/it]"
     ]
    },
    {
     "name": "stdout",
     "output_type": "stream",
     "text": [
      "1464363334168.jpg\n"
     ]
    },
    {
     "name": "stderr",
     "output_type": "stream",
     "text": [
      " 68%|██████▊   | 17/25 [01:26<00:34,  4.27s/it]"
     ]
    },
    {
     "name": "stdout",
     "output_type": "stream",
     "text": [
      "1471252140531.jpg\n"
     ]
    },
    {
     "name": "stderr",
     "output_type": "stream",
     "text": [
      " 72%|███████▏  | 18/25 [01:31<00:30,  4.42s/it]"
     ]
    },
    {
     "name": "stdout",
     "output_type": "stream",
     "text": [
      "1470997171519.jpg\n"
     ]
    },
    {
     "name": "stderr",
     "output_type": "stream",
     "text": [
      " 76%|███████▌  | 19/25 [01:37<00:28,  4.76s/it]"
     ]
    },
    {
     "name": "stdout",
     "output_type": "stream",
     "text": [
      "1470997877266.jpg\n"
     ]
    },
    {
     "name": "stderr",
     "output_type": "stream",
     "text": [
      " 80%|████████  | 20/25 [01:42<00:24,  4.81s/it]"
     ]
    },
    {
     "name": "stdout",
     "output_type": "stream",
     "text": [
      "1468406614097.jpg\n"
     ]
    },
    {
     "name": "stderr",
     "output_type": "stream",
     "text": [
      " 84%|████████▍ | 21/25 [01:46<00:18,  4.74s/it]"
     ]
    },
    {
     "name": "stdout",
     "output_type": "stream",
     "text": [
      "1469905003674.jpg\n"
     ]
    },
    {
     "name": "stderr",
     "output_type": "stream",
     "text": [
      " 88%|████████▊ | 22/25 [01:50<00:13,  4.41s/it]"
     ]
    },
    {
     "name": "stdout",
     "output_type": "stream",
     "text": [
      "1469923979072.jpg\n"
     ]
    },
    {
     "name": "stderr",
     "output_type": "stream",
     "text": [
      " 92%|█████████▏| 23/25 [01:56<00:10,  5.06s/it]"
     ]
    },
    {
     "name": "stdout",
     "output_type": "stream",
     "text": [
      "1470140981460.jpg\n"
     ]
    },
    {
     "name": "stderr",
     "output_type": "stream",
     "text": [
      " 96%|█████████▌| 24/25 [02:01<00:05,  5.06s/it]"
     ]
    },
    {
     "name": "stdout",
     "output_type": "stream",
     "text": [
      "1461662216060.jpg\n"
     ]
    },
    {
     "name": "stderr",
     "output_type": "stream",
     "text": [
      "100%|██████████| 25/25 [02:06<00:00,  5.05s/it]\n"
     ]
    },
    {
     "name": "stdout",
     "output_type": "stream",
     "text": [
      "../Adam_Old_Old/\n"
     ]
    },
    {
     "name": "stderr",
     "output_type": "stream",
     "text": [
      "  0%|          | 0/25 [00:00<?, ?it/s]"
     ]
    },
    {
     "name": "stdout",
     "output_type": "stream",
     "text": [
      "20160329_205342.jpg\n"
     ]
    },
    {
     "name": "stderr",
     "output_type": "stream",
     "text": [
      "  4%|▍         | 1/25 [00:26<10:30, 26.25s/it]"
     ]
    },
    {
     "name": "stdout",
     "output_type": "stream",
     "text": [
      "20160726_152427.jpg\n"
     ]
    },
    {
     "name": "stderr",
     "output_type": "stream",
     "text": [
      "  8%|▊         | 2/25 [00:47<08:57, 23.37s/it]"
     ]
    },
    {
     "name": "stdout",
     "output_type": "stream",
     "text": [
      "20160523_145635.jpg\n"
     ]
    },
    {
     "name": "stderr",
     "output_type": "stream",
     "text": [
      " 12%|█▏        | 3/25 [01:09<08:21, 22.78s/it]"
     ]
    },
    {
     "name": "stdout",
     "output_type": "stream",
     "text": [
      "20160730_221628.jpg\n"
     ]
    },
    {
     "name": "stderr",
     "output_type": "stream",
     "text": [
      " 16%|█▌        | 4/25 [01:29<07:37, 21.80s/it]"
     ]
    },
    {
     "name": "stdout",
     "output_type": "stream",
     "text": [
      "20160426_193857.jpg\n"
     ]
    },
    {
     "name": "stderr",
     "output_type": "stream",
     "text": [
      " 20%|██        | 5/25 [01:51<07:10, 21.54s/it]"
     ]
    },
    {
     "name": "stdout",
     "output_type": "stream",
     "text": [
      "20160404_144140.jpg\n"
     ]
    },
    {
     "name": "stderr",
     "output_type": "stream",
     "text": [
      " 24%|██▍       | 6/25 [02:18<07:26, 23.51s/it]"
     ]
    },
    {
     "name": "stdout",
     "output_type": "stream",
     "text": [
      "20160512_105938.jpg\n"
     ]
    },
    {
     "name": "stderr",
     "output_type": "stream",
     "text": [
      " 28%|██▊       | 7/25 [02:44<07:17, 24.32s/it]"
     ]
    },
    {
     "name": "stdout",
     "output_type": "stream",
     "text": [
      "20160427_104705.jpg\n"
     ]
    },
    {
     "name": "stderr",
     "output_type": "stream",
     "text": [
      " 32%|███▏      | 8/25 [03:06<06:40, 23.56s/it]"
     ]
    },
    {
     "name": "stdout",
     "output_type": "stream",
     "text": [
      "20160329_211756.jpg\n"
     ]
    },
    {
     "name": "stderr",
     "output_type": "stream",
     "text": [
      " 36%|███▌      | 9/25 [03:29<06:14, 23.43s/it]"
     ]
    },
    {
     "name": "stdout",
     "output_type": "stream",
     "text": [
      "20160329_221454.jpg\n"
     ]
    },
    {
     "name": "stderr",
     "output_type": "stream",
     "text": [
      " 40%|████      | 10/25 [03:51<05:46, 23.10s/it]"
     ]
    },
    {
     "name": "stdout",
     "output_type": "stream",
     "text": [
      "20160329_215320.jpg\n"
     ]
    },
    {
     "name": "stderr",
     "output_type": "stream",
     "text": [
      " 44%|████▍     | 11/25 [04:15<05:23, 23.13s/it]"
     ]
    },
    {
     "name": "stdout",
     "output_type": "stream",
     "text": [
      "20160527_161557.jpg\n"
     ]
    },
    {
     "name": "stderr",
     "output_type": "stream",
     "text": [
      " 48%|████▊     | 12/25 [04:35<04:51, 22.42s/it]"
     ]
    },
    {
     "name": "stdout",
     "output_type": "stream",
     "text": [
      "20160610_191650.jpg\n"
     ]
    },
    {
     "name": "stderr",
     "output_type": "stream",
     "text": [
      " 52%|█████▏    | 13/25 [04:58<04:29, 22.44s/it]"
     ]
    },
    {
     "name": "stdout",
     "output_type": "stream",
     "text": [
      "20160329_210525.jpg\n"
     ]
    },
    {
     "name": "stderr",
     "output_type": "stream",
     "text": [
      " 56%|█████▌    | 14/25 [05:20<04:05, 22.33s/it]"
     ]
    },
    {
     "name": "stdout",
     "output_type": "stream",
     "text": [
      "20160427_104446.jpg\n"
     ]
    },
    {
     "name": "stderr",
     "output_type": "stream",
     "text": [
      " 60%|██████    | 15/25 [05:41<03:40, 22.01s/it]"
     ]
    },
    {
     "name": "stdout",
     "output_type": "stream",
     "text": [
      "20160610_192002.jpg\n"
     ]
    },
    {
     "name": "stderr",
     "output_type": "stream",
     "text": [
      " 64%|██████▍   | 16/25 [06:04<03:19, 22.15s/it]"
     ]
    },
    {
     "name": "stdout",
     "output_type": "stream",
     "text": [
      "20160730_221637.jpg\n"
     ]
    },
    {
     "name": "stderr",
     "output_type": "stream",
     "text": [
      " 68%|██████▊   | 17/25 [06:26<02:57, 22.25s/it]"
     ]
    },
    {
     "name": "stdout",
     "output_type": "stream",
     "text": [
      "20160704_203908.jpg\n"
     ]
    },
    {
     "name": "stderr",
     "output_type": "stream",
     "text": [
      " 72%|███████▏  | 18/25 [06:50<02:38, 22.65s/it]"
     ]
    },
    {
     "name": "stdout",
     "output_type": "stream",
     "text": [
      "20160427_104753.jpg\n"
     ]
    },
    {
     "name": "stderr",
     "output_type": "stream",
     "text": [
      " 76%|███████▌  | 19/25 [07:11<02:13, 22.30s/it]"
     ]
    },
    {
     "name": "stdout",
     "output_type": "stream",
     "text": [
      "20160818_095954.jpg\n"
     ]
    },
    {
     "name": "stderr",
     "output_type": "stream",
     "text": [
      " 80%|████████  | 20/25 [07:35<01:53, 22.77s/it]"
     ]
    },
    {
     "name": "stdout",
     "output_type": "stream",
     "text": [
      "20160427_104540.jpg\n"
     ]
    },
    {
     "name": "stderr",
     "output_type": "stream",
     "text": [
      " 84%|████████▍ | 21/25 [07:57<01:30, 22.54s/it]"
     ]
    },
    {
     "name": "stdout",
     "output_type": "stream",
     "text": [
      "20160329_203932.jpg\n"
     ]
    },
    {
     "name": "stderr",
     "output_type": "stream",
     "text": [
      " 88%|████████▊ | 22/25 [08:19<01:06, 22.27s/it]"
     ]
    },
    {
     "name": "stdout",
     "output_type": "stream",
     "text": [
      "20160512_105956.jpg\n"
     ]
    },
    {
     "name": "stderr",
     "output_type": "stream",
     "text": [
      " 92%|█████████▏| 23/25 [08:44<00:46, 23.07s/it]"
     ]
    },
    {
     "name": "stdout",
     "output_type": "stream",
     "text": [
      "20160427_104620.jpg\n"
     ]
    },
    {
     "name": "stderr",
     "output_type": "stream",
     "text": [
      " 96%|█████████▌| 24/25 [09:06<00:22, 22.84s/it]"
     ]
    },
    {
     "name": "stdout",
     "output_type": "stream",
     "text": [
      "20160610_192102.jpg\n"
     ]
    },
    {
     "name": "stderr",
     "output_type": "stream",
     "text": [
      "100%|██████████| 25/25 [09:28<00:00, 22.75s/it]\n"
     ]
    },
    {
     "name": "stdout",
     "output_type": "stream",
     "text": [
      "../Adam_Old_2/\n"
     ]
    },
    {
     "name": "stderr",
     "output_type": "stream",
     "text": [
      "  0%|          | 0/10 [00:00<?, ?it/s]"
     ]
    },
    {
     "name": "stdout",
     "output_type": "stream",
     "text": [
      "20191019_161551.jpg\n"
     ]
    },
    {
     "name": "stderr",
     "output_type": "stream",
     "text": [
      " 10%|█         | 1/10 [00:25<03:50, 25.57s/it]"
     ]
    },
    {
     "name": "stdout",
     "output_type": "stream",
     "text": [
      "20191019_161441.jpg\n"
     ]
    },
    {
     "name": "stderr",
     "output_type": "stream",
     "text": [
      " 20%|██        | 2/10 [00:58<04:00, 30.05s/it]"
     ]
    },
    {
     "name": "stdout",
     "output_type": "stream",
     "text": [
      "20191019_161859.jpg\n"
     ]
    },
    {
     "name": "stderr",
     "output_type": "stream",
     "text": [
      " 30%|███       | 3/10 [01:26<03:23, 29.14s/it]"
     ]
    },
    {
     "name": "stdout",
     "output_type": "stream",
     "text": [
      "20191019_130201.jpg\n"
     ]
    },
    {
     "name": "stderr",
     "output_type": "stream",
     "text": [
      " 40%|████      | 4/10 [01:46<02:32, 25.45s/it]"
     ]
    },
    {
     "name": "stdout",
     "output_type": "stream",
     "text": [
      "20191019_141404.jpg\n"
     ]
    },
    {
     "name": "stderr",
     "output_type": "stream",
     "text": [
      " 50%|█████     | 5/10 [02:07<01:58, 23.73s/it]"
     ]
    },
    {
     "name": "stdout",
     "output_type": "stream",
     "text": [
      "20191019_130841.jpg\n"
     ]
    },
    {
     "name": "stderr",
     "output_type": "stream",
     "text": [
      " 60%|██████    | 6/10 [02:27<01:30, 22.66s/it]"
     ]
    },
    {
     "name": "stdout",
     "output_type": "stream",
     "text": [
      "20191019_142219.jpg\n"
     ]
    },
    {
     "name": "stderr",
     "output_type": "stream",
     "text": [
      " 70%|███████   | 7/10 [02:48<01:06, 22.14s/it]"
     ]
    },
    {
     "name": "stdout",
     "output_type": "stream",
     "text": [
      "20191019_142208.jpg\n"
     ]
    },
    {
     "name": "stderr",
     "output_type": "stream",
     "text": [
      " 80%|████████  | 8/10 [03:11<00:44, 22.24s/it]"
     ]
    },
    {
     "name": "stdout",
     "output_type": "stream",
     "text": [
      "20191019_162325.jpg\n"
     ]
    },
    {
     "name": "stderr",
     "output_type": "stream",
     "text": [
      " 90%|█████████ | 9/10 [03:43<00:25, 25.21s/it]"
     ]
    },
    {
     "name": "stdout",
     "output_type": "stream",
     "text": [
      "20191019_161604.jpg\n"
     ]
    },
    {
     "name": "stderr",
     "output_type": "stream",
     "text": [
      "100%|██████████| 10/10 [04:07<00:00, 24.76s/it]\n"
     ]
    },
    {
     "name": "stdout",
     "output_type": "stream",
     "text": [
      "../Adam_Old/\n"
     ]
    },
    {
     "name": "stderr",
     "output_type": "stream",
     "text": [
      "  0%|          | 0/40 [00:00<?, ?it/s]"
     ]
    },
    {
     "name": "stdout",
     "output_type": "stream",
     "text": [
      "20191014_195945.jpg\n"
     ]
    },
    {
     "name": "stderr",
     "output_type": "stream",
     "text": [
      "  2%|▎         | 1/40 [00:14<09:26, 14.53s/it]"
     ]
    },
    {
     "name": "stdout",
     "output_type": "stream",
     "text": [
      "20191016_123512.jpg\n"
     ]
    },
    {
     "name": "stderr",
     "output_type": "stream",
     "text": [
      "  5%|▌         | 2/40 [00:35<11:39, 18.41s/it]"
     ]
    },
    {
     "name": "stdout",
     "output_type": "stream",
     "text": [
      "20191016_132146.jpg\n"
     ]
    },
    {
     "name": "stderr",
     "output_type": "stream",
     "text": [
      "  8%|▊         | 3/40 [00:56<12:10, 19.75s/it]"
     ]
    },
    {
     "name": "stdout",
     "output_type": "stream",
     "text": [
      "20191015_160752.jpg\n"
     ]
    },
    {
     "name": "stderr",
     "output_type": "stream",
     "text": [
      " 10%|█         | 4/40 [01:17<11:56, 19.91s/it]"
     ]
    },
    {
     "name": "stdout",
     "output_type": "stream",
     "text": [
      "20191009_141612.jpg\n"
     ]
    },
    {
     "name": "stderr",
     "output_type": "stream",
     "text": [
      " 12%|█▎        | 5/40 [01:32<10:33, 18.09s/it]"
     ]
    },
    {
     "name": "stdout",
     "output_type": "stream",
     "text": [
      "20191010_003009.jpg\n"
     ]
    },
    {
     "name": "stderr",
     "output_type": "stream",
     "text": [
      " 15%|█▌        | 6/40 [01:51<10:36, 18.72s/it]"
     ]
    },
    {
     "name": "stdout",
     "output_type": "stream",
     "text": [
      "20191016_124046.jpg\n"
     ]
    },
    {
     "name": "stderr",
     "output_type": "stream",
     "text": [
      " 18%|█▊        | 7/40 [02:18<11:44, 21.35s/it]"
     ]
    },
    {
     "name": "stdout",
     "output_type": "stream",
     "text": [
      "20191017_170043.jpg\n"
     ]
    },
    {
     "name": "stderr",
     "output_type": "stream",
     "text": [
      " 20%|██        | 8/40 [02:46<12:33, 23.53s/it]"
     ]
    },
    {
     "name": "stdout",
     "output_type": "stream",
     "text": [
      "20191015_154545.jpg\n"
     ]
    },
    {
     "name": "stderr",
     "output_type": "stream",
     "text": [
      " 22%|██▎       | 9/40 [03:13<12:37, 24.43s/it]"
     ]
    },
    {
     "name": "stdout",
     "output_type": "stream",
     "text": [
      "20191017_165840.jpg\n"
     ]
    },
    {
     "name": "stderr",
     "output_type": "stream",
     "text": [
      " 25%|██▌       | 10/40 [03:35<11:48, 23.63s/it]"
     ]
    },
    {
     "name": "stdout",
     "output_type": "stream",
     "text": [
      "20191018_144805.jpg\n"
     ]
    },
    {
     "name": "stderr",
     "output_type": "stream",
     "text": [
      " 28%|██▊       | 11/40 [04:01<11:45, 24.32s/it]"
     ]
    },
    {
     "name": "stdout",
     "output_type": "stream",
     "text": [
      "20191015_155159.jpg\n"
     ]
    },
    {
     "name": "stderr",
     "output_type": "stream",
     "text": [
      " 30%|███       | 12/40 [04:25<11:23, 24.42s/it]"
     ]
    },
    {
     "name": "stdout",
     "output_type": "stream",
     "text": [
      "20191016_130916.jpg\n"
     ]
    },
    {
     "name": "stderr",
     "output_type": "stream",
     "text": [
      " 32%|███▎      | 13/40 [04:54<11:32, 25.65s/it]"
     ]
    },
    {
     "name": "stdout",
     "output_type": "stream",
     "text": [
      "20191009_103451.jpg\n"
     ]
    },
    {
     "name": "stderr",
     "output_type": "stream",
     "text": [
      " 35%|███▌      | 14/40 [05:12<10:11, 23.51s/it]"
     ]
    },
    {
     "name": "stdout",
     "output_type": "stream",
     "text": [
      "20191014_145319.jpg\n"
     ]
    },
    {
     "name": "stderr",
     "output_type": "stream",
     "text": [
      " 38%|███▊      | 15/40 [05:41<10:24, 24.99s/it]"
     ]
    },
    {
     "name": "stdout",
     "output_type": "stream",
     "text": [
      "20191016_130929.jpg\n"
     ]
    },
    {
     "name": "stderr",
     "output_type": "stream",
     "text": [
      " 40%|████      | 16/40 [06:03<09:43, 24.29s/it]"
     ]
    },
    {
     "name": "stdout",
     "output_type": "stream",
     "text": [
      "20191016_123216.jpg\n"
     ]
    },
    {
     "name": "stderr",
     "output_type": "stream",
     "text": [
      " 42%|████▎     | 17/40 [06:28<09:18, 24.28s/it]"
     ]
    },
    {
     "name": "stdout",
     "output_type": "stream",
     "text": [
      "20191016_122726.jpg\n"
     ]
    },
    {
     "name": "stderr",
     "output_type": "stream",
     "text": [
      " 45%|████▌     | 18/40 [07:02<10:00, 27.29s/it]"
     ]
    },
    {
     "name": "stdout",
     "output_type": "stream",
     "text": [
      "20191015_155639.jpg\n"
     ]
    },
    {
     "name": "stderr",
     "output_type": "stream",
     "text": [
      " 48%|████▊     | 19/40 [07:29<09:31, 27.21s/it]"
     ]
    },
    {
     "name": "stdout",
     "output_type": "stream",
     "text": [
      "20191014_200000.jpg\n"
     ]
    },
    {
     "name": "stderr",
     "output_type": "stream",
     "text": [
      " 50%|█████     | 20/40 [07:44<07:48, 23.44s/it]"
     ]
    },
    {
     "name": "stdout",
     "output_type": "stream",
     "text": [
      "20191009_181508.jpg\n"
     ]
    },
    {
     "name": "stderr",
     "output_type": "stream",
     "text": [
      " 52%|█████▎    | 21/40 [08:04<07:08, 22.56s/it]"
     ]
    },
    {
     "name": "stdout",
     "output_type": "stream",
     "text": [
      "20191016_214201.jpg\n"
     ]
    },
    {
     "name": "stderr",
     "output_type": "stream",
     "text": [
      " 55%|█████▌    | 22/40 [08:25<06:37, 22.07s/it]"
     ]
    },
    {
     "name": "stdout",
     "output_type": "stream",
     "text": [
      "20191016_131207.jpg\n"
     ]
    },
    {
     "name": "stderr",
     "output_type": "stream",
     "text": [
      " 57%|█████▊    | 23/40 [08:40<05:39, 19.97s/it]"
     ]
    },
    {
     "name": "stdout",
     "output_type": "stream",
     "text": [
      "20191015_154518.jpg\n"
     ]
    },
    {
     "name": "stderr",
     "output_type": "stream",
     "text": [
      " 60%|██████    | 24/40 [09:02<05:29, 20.59s/it]"
     ]
    },
    {
     "name": "stdout",
     "output_type": "stream",
     "text": [
      "20191015_154929.jpg\n"
     ]
    },
    {
     "name": "stderr",
     "output_type": "stream",
     "text": [
      " 62%|██████▎   | 25/40 [09:35<06:04, 24.28s/it]"
     ]
    },
    {
     "name": "stdout",
     "output_type": "stream",
     "text": [
      "20191015_154914.jpg\n"
     ]
    },
    {
     "name": "stderr",
     "output_type": "stream",
     "text": [
      " 65%|██████▌   | 26/40 [10:04<06:01, 25.79s/it]"
     ]
    },
    {
     "name": "stdout",
     "output_type": "stream",
     "text": [
      "20191016_131204.jpg\n"
     ]
    },
    {
     "name": "stderr",
     "output_type": "stream",
     "text": [
      " 68%|██████▊   | 27/40 [10:19<04:53, 22.57s/it]"
     ]
    },
    {
     "name": "stdout",
     "output_type": "stream",
     "text": [
      "20191016_130923.jpg\n"
     ]
    },
    {
     "name": "stderr",
     "output_type": "stream",
     "text": [
      " 70%|███████   | 28/40 [10:47<04:48, 24.05s/it]"
     ]
    },
    {
     "name": "stdout",
     "output_type": "stream",
     "text": [
      "20191016_124201.jpg\n"
     ]
    },
    {
     "name": "stderr",
     "output_type": "stream",
     "text": [
      " 72%|███████▎  | 29/40 [11:13<04:32, 24.78s/it]"
     ]
    },
    {
     "name": "stdout",
     "output_type": "stream",
     "text": [
      "20191015_154853.jpg\n"
     ]
    },
    {
     "name": "stderr",
     "output_type": "stream",
     "text": [
      " 75%|███████▌  | 30/40 [11:39<04:11, 25.18s/it]"
     ]
    },
    {
     "name": "stdout",
     "output_type": "stream",
     "text": [
      "20191016_123810.jpg\n"
     ]
    },
    {
     "name": "stderr",
     "output_type": "stream",
     "text": [
      " 78%|███████▊  | 31/40 [12:01<03:36, 24.06s/it]"
     ]
    },
    {
     "name": "stdout",
     "output_type": "stream",
     "text": [
      "20191017_171653.jpg\n"
     ]
    },
    {
     "name": "stderr",
     "output_type": "stream",
     "text": [
      " 80%|████████  | 32/40 [12:27<03:18, 24.80s/it]"
     ]
    },
    {
     "name": "stdout",
     "output_type": "stream",
     "text": [
      "20191014_145711.jpg\n"
     ]
    },
    {
     "name": "stderr",
     "output_type": "stream",
     "text": [
      " 82%|████████▎ | 33/40 [13:05<03:20, 28.69s/it]"
     ]
    },
    {
     "name": "stdout",
     "output_type": "stream",
     "text": [
      "20191014_115433.jpg\n"
     ]
    },
    {
     "name": "stderr",
     "output_type": "stream",
     "text": [
      " 85%|████████▌ | 34/40 [13:29<02:42, 27.11s/it]"
     ]
    },
    {
     "name": "stdout",
     "output_type": "stream",
     "text": [
      "20191016_124049.jpg\n"
     ]
    },
    {
     "name": "stderr",
     "output_type": "stream",
     "text": [
      " 88%|████████▊ | 35/40 [13:57<02:17, 27.55s/it]"
     ]
    },
    {
     "name": "stdout",
     "output_type": "stream",
     "text": [
      "20191015_155330.jpg\n"
     ]
    },
    {
     "name": "stderr",
     "output_type": "stream",
     "text": [
      " 90%|█████████ | 36/40 [14:04<01:24, 21.23s/it]"
     ]
    },
    {
     "name": "stdout",
     "output_type": "stream",
     "text": [
      "20191016_123900.jpg\n"
     ]
    },
    {
     "name": "stderr",
     "output_type": "stream",
     "text": [
      " 92%|█████████▎| 37/40 [14:33<01:10, 23.62s/it]"
     ]
    },
    {
     "name": "stdout",
     "output_type": "stream",
     "text": [
      "20191015_202412.jpg\n"
     ]
    },
    {
     "name": "stderr",
     "output_type": "stream",
     "text": [
      " 95%|█████████▌| 38/40 [15:00<00:49, 24.53s/it]"
     ]
    },
    {
     "name": "stdout",
     "output_type": "stream",
     "text": [
      "20191014_115435.jpg\n"
     ]
    },
    {
     "name": "stderr",
     "output_type": "stream",
     "text": [
      " 98%|█████████▊| 39/40 [15:22<00:24, 24.05s/it]"
     ]
    },
    {
     "name": "stdout",
     "output_type": "stream",
     "text": [
      "20191017_171619.jpg\n"
     ]
    },
    {
     "name": "stderr",
     "output_type": "stream",
     "text": [
      "100%|██████████| 40/40 [15:54<00:00, 23.86s/it]\n"
     ]
    }
   ],
   "source": [
    "from noiseprint.noiseprint_blind import noiseprint_blind_post\n",
    "from noiseprint.post_em import EMgu_img, getSpamFromNoiseprint\n",
    "from noiseprint.utility.utilityRead import imread2f\n",
    "\n",
    "for path in path_list:\n",
    "    print(path)\n",
    "    directory = os.fsencode(path)\n",
    "    for file in tqdm(os.listdir(directory)):\n",
    "        filename = os.fsdecode(file)\n",
    "        path_strip = re.sub(r'[^a-zA-Z0-9]', '', path)\n",
    "        print(filename)\n",
    "        if path_strip + '_' + filename in updated_output_dict.keys():\n",
    "            continue\n",
    "        elif filename == '.ipynb_checkpoints':\n",
    "            continue\n",
    "        else:\n",
    "            input_image = path + filename\n",
    "            if input_image.endswith('.HEIC'):\n",
    "                register_heif_opener()\n",
    "                img = Image.open(input_image)\n",
    "            else:\n",
    "                img, mode = imread2f(input_image, channel=1)\n",
    "            updated_output_dict[path_strip + '_' + filename] = noiseprint_blind_post(res=output_dict[path_strip + '_' + filename]['noiseprint'], img=img)\n",
    "                                                                            "
   ]
  },
  {
   "cell_type": "code",
   "execution_count": 21,
   "id": "0336978b-8efb-42a7-a7a9-2ad012c729b7",
   "metadata": {},
   "outputs": [
    {
     "data": {
      "text/plain": [
       "247"
      ]
     },
     "execution_count": 21,
     "metadata": {},
     "output_type": "execute_result"
    }
   ],
   "source": [
    "len(updated_output_dict.keys())"
   ]
  },
  {
   "cell_type": "code",
   "execution_count": 22,
   "id": "c2acf2e0-0e75-4a38-9bb0-139a691a3938",
   "metadata": {},
   "outputs": [],
   "source": [
    "with open('image_noise_prints_2.pickle', 'wb') as handle:\n",
    "    pickle.dump(updated_output_dict, handle, protocol=pickle.HIGHEST_PROTOCOL)"
   ]
  },
  {
   "cell_type": "code",
   "execution_count": 23,
   "id": "420a7a77-98af-4dca-b53f-bd4550add028",
   "metadata": {},
   "outputs": [],
   "source": [
    "with open('image_noise_prints_2.pickle', 'rb') as handle:\n",
    "    updated_output_dict_2 = pickle.load(handle)"
   ]
  },
  {
   "cell_type": "code",
   "execution_count": 25,
   "id": "9533e955-8a7c-462d-916e-b44e72558736",
   "metadata": {},
   "outputs": [
    {
     "data": {
      "text/plain": [
       "294"
      ]
     },
     "execution_count": 25,
     "metadata": {},
     "output_type": "execute_result"
    }
   ],
   "source": [
    "len(output_dict.keys())"
   ]
  },
  {
   "cell_type": "code",
   "execution_count": 9,
   "id": "b987dd8d-02f6-4ad7-8523-79b2db817e78",
   "metadata": {},
   "outputs": [],
   "source": [
    "register_heif_opener()\n",
    "img = Image.open('../iCloud_Photos/IMG_0769.HEIC')"
   ]
  },
  {
   "cell_type": "code",
   "execution_count": 25,
   "id": "c0257c18-6a06-42a4-b9a7-86f69561f759",
   "metadata": {},
   "outputs": [
    {
     "data": {
      "text/plain": [
       "4032"
      ]
     },
     "execution_count": 25,
     "metadata": {},
     "output_type": "execute_result"
    }
   ],
   "source": [
    "img.size[0]"
   ]
  },
  {
   "cell_type": "code",
   "execution_count": 10,
   "id": "b4017541-9023-4d94-8db7-b72a2cccfac0",
   "metadata": {},
   "outputs": [
    {
     "data": {
      "text/plain": [
       "(3468, 4624)"
      ]
     },
     "execution_count": 10,
     "metadata": {},
     "output_type": "execute_result"
    }
   ],
   "source": [
    "img2, mode = imread2f('../Nat_New_2/20220729_161136.jpg')\n",
    "img2.shape"
   ]
  },
  {
   "cell_type": "code",
   "execution_count": 27,
   "id": "1709c3e8-c767-4fac-ade5-cd61b3d920da",
   "metadata": {},
   "outputs": [],
   "source": [
    "import pyheif\n",
    "i = pyheif.read_heif('../iCloud_Photos/IMG_0769.HEIC')"
   ]
  },
  {
   "cell_type": "code",
   "execution_count": 28,
   "id": "11716fd5-8b9e-4df5-802e-3bafd274c59e",
   "metadata": {},
   "outputs": [
    {
     "data": {
      "text/plain": [
       "<HeifFile 4032x3024 RGB with 36578304 bytes data>"
      ]
     },
     "execution_count": 28,
     "metadata": {},
     "output_type": "execute_result"
    }
   ],
   "source": [
    "i"
   ]
  },
  {
   "cell_type": "code",
   "execution_count": 30,
   "id": "dd762a03-5b5a-4c89-affc-bee603612546",
   "metadata": {},
   "outputs": [],
   "source": [
    "import io\n",
    "\n",
    "import whatimage\n",
    "import pyheif\n",
    "from PIL import Image\n",
    "\n",
    "\n",
    "def decodeHEICImage(bytesIo):\n",
    "\n",
    "\n",
    "    i = pyheif.read_heif(bytesIo)\n",
    "\n",
    "     # # Extract metadata etc\n",
    "     # for metadata in i.metadata or []:\n",
    "     #     if metadata['type']=='Exif':\n",
    "     #         # do whatever\n",
    "\n",
    "     # Convert to other file format like jpeg\n",
    "    s = io.BytesIO()\n",
    "    print(s)\n",
    "    pi = Image.frombytes(\n",
    "            mode=i.mode, size=i.size, data=i.data)\n",
    "\n",
    "    pi.save(s, format=\"jpeg\")"
   ]
  },
  {
   "cell_type": "code",
   "execution_count": 9,
   "id": "01012a00-03c6-4ae1-ad96-548d7f2a3668",
   "metadata": {},
   "outputs": [],
   "source": [
    "rmdir ../iCloud_Photos/.ipynb_checkpoints"
   ]
  },
  {
   "cell_type": "code",
   "execution_count": 11,
   "id": "7ecd0f48-4064-48b7-b23b-ad488a18ba67",
   "metadata": {},
   "outputs": [
    {
     "name": "stdout",
     "output_type": "stream",
     "text": [
      "IMG_0456.HEIC\n",
      "IMG_0401.HEIC\n"
     ]
    },
    {
     "name": "stderr",
     "output_type": "stream",
     "text": [
      "/opt/anaconda3/envs/Nat_SPNandNoisePrint/lib/python3.7/site-packages/wand/image.py:9347: ImageWarning: CorruptImageProfile `../iCloud_Photos2/IMG_0401.HEIC' (XMP) @ warning/profile.c/ValidateXMPProfile/1935\n",
      "  self.raise_exception()\n"
     ]
    },
    {
     "name": "stdout",
     "output_type": "stream",
     "text": [
      "IMG_0421.HEIC\n"
     ]
    },
    {
     "name": "stderr",
     "output_type": "stream",
     "text": [
      "/opt/anaconda3/envs/Nat_SPNandNoisePrint/lib/python3.7/site-packages/wand/image.py:9347: ImageWarning: CorruptImageProfile `../iCloud_Photos2/IMG_0421.HEIC' (XMP) @ warning/profile.c/ValidateXMPProfile/1935\n",
      "  self.raise_exception()\n"
     ]
    },
    {
     "name": "stdout",
     "output_type": "stream",
     "text": [
      "IMG_0436.HEIC\n",
      "IMG_0477.HEIC\n",
      "IMG_0466.HEIC\n"
     ]
    },
    {
     "name": "stderr",
     "output_type": "stream",
     "text": [
      "/opt/anaconda3/envs/Nat_SPNandNoisePrint/lib/python3.7/site-packages/wand/image.py:9347: ImageWarning: CorruptImageProfile `../iCloud_Photos2/IMG_0466.HEIC' (XMP) @ warning/profile.c/ValidateXMPProfile/1935\n",
      "  self.raise_exception()\n"
     ]
    },
    {
     "name": "stdout",
     "output_type": "stream",
     "text": [
      "IMG_0446.HEIC\n",
      "IMG_0492.HEIC\n",
      "IMG_0406.HEIC\n"
     ]
    },
    {
     "name": "stderr",
     "output_type": "stream",
     "text": [
      "/opt/anaconda3/envs/Nat_SPNandNoisePrint/lib/python3.7/site-packages/wand/image.py:9347: ImageWarning: CorruptImageProfile `../iCloud_Photos2/IMG_0406.HEIC' (XMP) @ warning/profile.c/ValidateXMPProfile/1935\n",
      "  self.raise_exception()\n"
     ]
    },
    {
     "name": "stdout",
     "output_type": "stream",
     "text": [
      "IMG_0426.HEIC\n",
      "IMG_0452.HEIC\n"
     ]
    },
    {
     "name": "stderr",
     "output_type": "stream",
     "text": [
      "/opt/anaconda3/envs/Nat_SPNandNoisePrint/lib/python3.7/site-packages/wand/image.py:9347: ImageWarning: CorruptImageProfile `../iCloud_Photos2/IMG_0452.HEIC' (XMP) @ warning/profile.c/ValidateXMPProfile/1935\n",
      "  self.raise_exception()\n"
     ]
    },
    {
     "name": "stdout",
     "output_type": "stream",
     "text": [
      "IMG_0432.HEIC\n",
      "IMG_0422.HEIC\n",
      "IMG_0443.HEIC\n",
      "IMG_0402.HEIC\n"
     ]
    }
   ],
   "source": [
    "from wand.image import Image\n",
    "import os\n",
    "\n",
    "SourceFolder=\"../iCloud_Photos2\"\n",
    "TargetFolder=\"../iCloud_Photos_Converted\"\n",
    "\n",
    "for file in os.listdir(SourceFolder):\n",
    "    print(file)\n",
    "    if file == '.ipynb.checkpoints':\n",
    "        continue\n",
    "    else:\n",
    "        SourceFile=SourceFolder + \"/\" + file\n",
    "        TargetFile=TargetFolder + \"/\" + file.replace(\".HEIC\",\".JPG\")\n",
    "\n",
    "        img=Image(filename=SourceFile)\n",
    "        img.format='jpg'\n",
    "        img.save(filename=TargetFile)\n",
    "        img.close()"
   ]
  },
  {
   "cell_type": "code",
   "execution_count": null,
   "id": "7962feda-49d5-459e-8b3c-760f225b41f4",
   "metadata": {},
   "outputs": [],
   "source": []
  }
 ],
 "metadata": {
  "kernelspec": {
   "display_name": "Python 3 (ipykernel)",
   "language": "python",
   "name": "python3"
  },
  "language_info": {
   "codemirror_mode": {
    "name": "ipython",
    "version": 3
   },
   "file_extension": ".py",
   "mimetype": "text/x-python",
   "name": "python",
   "nbconvert_exporter": "python",
   "pygments_lexer": "ipython3",
   "version": "3.7.15"
  }
 },
 "nbformat": 4,
 "nbformat_minor": 5
}
